{
 "cells": [
  {
   "cell_type": "markdown",
   "metadata": {},
   "source": [
    "### Each video  = sum of frames\n",
    "### Each frame = collection of pixel , each pixel has a location in the picture or frame and an associated value depicting intensity of color of that specefic channel."
   ]
  },
  {
   "cell_type": "code",
   "execution_count": 1,
   "metadata": {
    "collapsed": true
   },
   "outputs": [],
   "source": [
    "#import our dependencies\n",
    "import cv2\n",
    "import numpy as np"
   ]
  },
  {
   "cell_type": "code",
   "execution_count": 2,
   "metadata": {
    "collapsed": true
   },
   "outputs": [],
   "source": [
    "img = cv2.imread('img.jpg',cv2.IMREAD_COLOR)"
   ]
  },
  {
   "cell_type": "code",
   "execution_count": 4,
   "metadata": {
    "collapsed": true
   },
   "outputs": [],
   "source": [
    "# To refer to a particular pixel use something like this\n",
    "px = img[35,35]"
   ]
  },
  {
   "cell_type": "code",
   "execution_count": 5,
   "metadata": {
    "collapsed": true
   },
   "outputs": [],
   "source": [
    "#to change the value of a particular pixel\n",
    "img[25,25] = [255,255,255]"
   ]
  },
  {
   "cell_type": "code",
   "execution_count": 8,
   "metadata": {},
   "outputs": [
    {
     "name": "stdout",
     "output_type": "stream",
     "text": [
      "[[[ 1  3  4]\n",
      "  [ 5  8 12]\n",
      "  [13 16 20]\n",
      "  ..., \n",
      "  [17 28 26]\n",
      "  [17 28 26]\n",
      "  [16 27 25]]\n",
      "\n",
      " [[ 3  5  6]\n",
      "  [ 7 10 14]\n",
      "  [15 18 22]\n",
      "  ..., \n",
      "  [17 28 26]\n",
      "  [17 28 26]\n",
      "  [16 27 25]]\n",
      "\n",
      " [[ 4  6  7]\n",
      "  [ 9 12 16]\n",
      "  [17 20 24]\n",
      "  ..., \n",
      "  [17 28 26]\n",
      "  [17 28 26]\n",
      "  [16 27 25]]\n",
      "\n",
      " ..., \n",
      " [[ 5  4  0]\n",
      "  [ 5  4  0]\n",
      "  [ 5  4  0]\n",
      "  ..., \n",
      "  [ 2  2  2]\n",
      "  [ 2  2  2]\n",
      "  [ 2  2  2]]\n",
      "\n",
      " [[ 5  4  0]\n",
      "  [ 5  4  0]\n",
      "  [ 5  4  0]\n",
      "  ..., \n",
      "  [ 2  2  2]\n",
      "  [ 2  2  2]\n",
      "  [ 2  2  2]]\n",
      "\n",
      " [[ 5  4  0]\n",
      "  [ 5  4  0]\n",
      "  [ 5  4  0]\n",
      "  ..., \n",
      "  [ 2  2  2]\n",
      "  [ 2  2  2]\n",
      "  [ 2  2  2]]]\n"
     ]
    }
   ],
   "source": [
    "# We can refer to the region of an image as :\n",
    "region = img[20:500,50:800]\n",
    "\n",
    "print(region)"
   ]
  },
  {
   "cell_type": "code",
   "execution_count": 10,
   "metadata": {},
   "outputs": [
    {
     "name": "stdout",
     "output_type": "stream",
     "text": [
      "1226880\n",
      "(480, 852, 3)\n",
      "uint8\n"
     ]
    }
   ],
   "source": [
    "region = [255,255,255]\n",
    "print(img.size)\n",
    "print(img.shape)\n",
    "print(img.dtype)"
   ]
  },
  {
   "cell_type": "code",
   "execution_count": 11,
   "metadata": {
    "collapsed": true
   },
   "outputs": [],
   "source": [
    "t = img[100:250,200:500] \n",
    "img[200:350,100:400] = t\n",
    "cv2.imshow('image',img)\n",
    "cv2.waitKey(0)\n",
    "cv2.destroyAllWindows()"
   ]
  }
 ],
 "metadata": {
  "kernelspec": {
   "display_name": "Python 3",
   "language": "python",
   "name": "python3"
  },
  "language_info": {
   "codemirror_mode": {
    "name": "ipython",
    "version": 3
   },
   "file_extension": ".py",
   "mimetype": "text/x-python",
   "name": "python",
   "nbconvert_exporter": "python",
   "pygments_lexer": "ipython3",
   "version": "3.6.1"
  }
 },
 "nbformat": 4,
 "nbformat_minor": 2
}
